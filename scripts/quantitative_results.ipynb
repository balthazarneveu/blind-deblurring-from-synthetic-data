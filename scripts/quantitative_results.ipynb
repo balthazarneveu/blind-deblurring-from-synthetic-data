{
 "cells": [
  {
   "cell_type": "code",
   "execution_count": 11,
   "metadata": {},
   "outputs": [],
   "source": [
    "from pathlib import Path\n",
    "import pandas as pd\n",
    "from matplotlib import pyplot as plt\n",
    "from configuration import ROOT_DIR\n",
    "from rstor.properties import DATASET_DIV2K, DATASET_DL_DIV2K_512\n",
    "from rstor.analyzis.metrics_plots import plot_results\n",
    "# from infer import main\n",
    "import numpy as np"
   ]
  },
  {
   "cell_type": "code",
   "execution_count": 8,
   "metadata": {},
   "outputs": [
    {
     "name": "stdout",
     "output_type": "stream",
     "text": [
      "Loading models: 100%|█████████████████████████████| 1/1 [00:09<00:00,  9.49s/it]\n",
      "  4%|█▊                                          | 1/25 [00:09<03:54,  9.78s/it]\n",
      "  4%|█▊                                          | 1/25 [00:06<02:25,  6.06s/it]\n",
      "Loading models: 100%|█████████████████████████████| 1/1 [00:08<00:00,  8.04s/it]\n",
      "  1%|▍                                          | 1/100 [00:07<12:25,  7.53s/it]\n",
      "  1%|▍                                          | 1/100 [00:06<10:48,  6.55s/it]\n"
     ]
    }
   ],
   "source": [
    "# 3011, 3001, 3020, 3120\n",
    "for dataset in [DATASET_DIV2K, DATASET_DL_DIV2K_512]:\n",
    "    inference_path = ROOT_DIR/\"__quantitative_study\"/dataset\n",
    "    inference_path_str = str(inference_path)\n",
    "    # !python infer.py -e 3001 3020 3120 -o $inference_path_str -t metrics restored --size \"512,512\" --std-dev \"25,25 50,50\" -n 4 --dataset $dataset\n",
    "    !python infer.py -e 3101 -o $inference_path_str -t metrics restored --size \"512,512\" --std-dev \"25,25 50,50\" -n 4 --dataset $dataset"
   ]
  },
  {
   "cell_type": "code",
   "execution_count": 13,
   "metadata": {},
   "outputs": [
    {
     "name": "stdout",
     "output_type": "stream",
     "text": [
      "Loading models: 100%|█████████████████████████████| 1/1 [00:07<00:00,  7.01s/it]\n",
      "  0%|                                                   | 0/100 [00:03<?, ?it/s]\n",
      "Traceback (most recent call last):\n",
      "  File \"/Data/code/blind-deblurring-from-synthetic-data/scripts/infer.py\", line 189, in <module>\n",
      "    infer_main(sys.argv[1:])\n",
      "  File \"/Data/code/blind-deblurring-from-synthetic-data/scripts/infer.py\", line 175, in infer_main\n",
      "    all_metrics = infer(model, dataloader[VALIDATION], config, device, output_dir,\n",
      "  File \"/Data/code/blind-deblurring-from-synthetic-data/scripts/infer.py\", line 112, in infer\n",
      "    current_metrics[\"in_\"+key] = metrics_input_per_image[key][idx].item()\n",
      "IndexError: invalid index of a 0-dim tensor. Use `tensor.item()` in Python or `tensor.item<T>()` in C++ to convert a 0-dim tensor to a number\n",
      "Loading models: 100%|█████████████████████████████| 1/1 [00:07<00:00,  7.62s/it]\n",
      "  0%|                                                   | 0/400 [00:03<?, ?it/s]\n",
      "Traceback (most recent call last):\n",
      "  File \"/Data/code/blind-deblurring-from-synthetic-data/scripts/infer.py\", line 189, in <module>\n",
      "    infer_main(sys.argv[1:])\n",
      "  File \"/Data/code/blind-deblurring-from-synthetic-data/scripts/infer.py\", line 175, in infer_main\n",
      "    all_metrics = infer(model, dataloader[VALIDATION], config, device, output_dir,\n",
      "  File \"/Data/code/blind-deblurring-from-synthetic-data/scripts/infer.py\", line 112, in infer\n",
      "    current_metrics[\"in_\"+key] = metrics_input_per_image[key][idx].item()\n",
      "IndexError: invalid index of a 0-dim tensor. Use `tensor.item()` in Python or `tensor.item<T>()` in C++ to convert a 0-dim tensor to a number\n"
     ]
    }
   ],
   "source": [
    "# 3011, 3001, 3020, 3120\n",
    "for dataset in [DATASET_DIV2K, DATASET_DL_DIV2K_512]:\n",
    "    inference_path = ROOT_DIR/\"__quantitative_study_massive\"/dataset\n",
    "    inference_path_str = str(inference_path)\n",
    "    # !python infer.py -e 3001 3020 3120 -o $inference_path_str -t metrics restored --size \"512,512\" --std-dev \"25,25 50,50\" -n 4 --dataset $dataset\n",
    "    !python infer.py -e 3101 -o $inference_path_str -t metrics restored --size \"1024,512\" --std-dev \"25,25 50,50\" -n 4 --dataset $dataset"
   ]
  },
  {
   "cell_type": "code",
   "execution_count": null,
   "metadata": {},
   "outputs": [],
   "source": []
  }
 ],
 "metadata": {
  "kernelspec": {
   "display_name": "robotics",
   "language": "python",
   "name": "python3"
  },
  "language_info": {
   "codemirror_mode": {
    "name": "ipython",
    "version": 3
   },
   "file_extension": ".py",
   "mimetype": "text/x-python",
   "name": "python",
   "nbconvert_exporter": "python",
   "pygments_lexer": "ipython3",
   "version": "3.10.12"
  }
 },
 "nbformat": 4,
 "nbformat_minor": 2
}
